{
 "cells": [
  {
   "cell_type": "code",
   "execution_count": null,
   "id": "47dc7719-e6c4-410f-be9c-dc4ecae567b3",
   "metadata": {},
   "outputs": [],
   "source": [
    "import requests\n",
    "from bs4 import BeautifulSoup\n",
    "import pandas as pd\n",
    "\n",
    "titles = []\n",
    "ratings = []\n",
    "prices = []\n",
    "\n",
    "rating_map = {\n",
    "    'One': '1',\n",
    "    'Two': '2',\n",
    "    'Three': '3',\n",
    "    'Four': '4',\n",
    "    'Five': '5'\n",
    "}\n",
    "\n",
    "for page in range(1, 51):\n",
    "    url = f\"http://books.toscrape.com/catalogue/page-{page}.html\"\n",
    "    response = requests.get(url)\n",
    "    soup = BeautifulSoup(response.content, \"html.parser\")\n",
    "\n",
    "    books = soup.find_all(\"article\", class_=\"product_pod\")\n",
    "\n",
    "    for book in books:\n",
    "        title = book.h3.a['title']\n",
    "        price = book.find(\"p\", class_=\"price_color\").text.replace(\"£\", \"\")\n",
    "        rating = book.p['class'][1]\n",
    "\n",
    "        titles.append(title)\n",
    "        prices.append(float(price))\n",
    "        ratings.append(int(rating_map[rating]))\n",
    "\n",
    "df = pd.DataFrame({\n",
    "    \"Title\": titles,\n",
    "    \"Rating\": ratings,\n",
    "    \"Price (£)\": prices\n",
    "})\n",
    "\n",
    "df.to_csv(\"books_scraped.csv\", index=False)\n",
    "df.head()\n"
   ]
  },
  {
   "cell_type": "code",
   "execution_count": null,
   "id": "88b71fec-2cfb-4427-ad76-5d45c5d1d273",
   "metadata": {},
   "outputs": [],
   "source": [
    "import matplotlib.pyplot as plt\n",
    "import seaborn as sns\n",
    "\n",
    "df = pd.read_csv(\"books_scraped.csv\")\n",
    "df['Rating'] = df['Rating'].astype(int)\n",
    "df['Price (£)'] = pd.to_numeric(df['Price (£)'], errors='coerce')\n",
    "\n",
    "df.head()\n"
   ]
  }
 ],
 "metadata": {
  "kernelspec": {
   "display_name": "Python 3 (ipykernel)",
   "language": "python",
   "name": "python3"
  },
  "language_info": {
   "codemirror_mode": {
    "name": "ipython",
    "version": 3
   },
   "file_extension": ".py",
   "mimetype": "text/x-python",
   "name": "python",
   "nbconvert_exporter": "python",
   "pygments_lexer": "ipython3",
   "version": "3.12.6"
  }
 },
 "nbformat": 4,
 "nbformat_minor": 5
}
